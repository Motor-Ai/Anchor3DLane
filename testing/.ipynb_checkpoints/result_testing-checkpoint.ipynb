{
 "cells": [
  {
   "cell_type": "code",
   "execution_count": 2,
   "id": "c1d9a453",
   "metadata": {},
   "outputs": [
    {
     "name": "stdout",
     "output_type": "stream",
     "text": [
      "The autoreload extension is already loaded. To reload it, use:\n",
      "  %reload_ext autoreload\n"
     ]
    }
   ],
   "source": [
    "%load_ext autoreload\n",
    "%autoreload 2\n",
    "\n",
    "import torch\n",
    "from infer import *\n",
    "import os\n",
    "from mmcv.utils import Config, DictAction, get_git_hash\n"
   ]
  },
  {
   "cell_type": "code",
   "execution_count": 5,
   "id": "732e91bd",
   "metadata": {},
   "outputs": [
    {
     "ename": "NameError",
     "evalue": "name 'Config' is not defined",
     "output_type": "error",
     "traceback": [
      "\u001b[0;31m---------------------------------------------------------------------------\u001b[0m",
      "\u001b[0;31mNameError\u001b[0m                                 Traceback (most recent call last)",
      "Cell \u001b[0;32mIn[5], line 1\u001b[0m\n\u001b[0;32m----> 1\u001b[0m cfg \u001b[38;5;241m=\u001b[39m \u001b[43mConfig\u001b[49m\u001b[38;5;241m.\u001b[39mfromfile(\u001b[38;5;124m\"\u001b[39m\u001b[38;5;124m/home/ec2-user/vardeep_ws/Anchor3DLane/configs/test_config.py\u001b[39m\u001b[38;5;124m\"\u001b[39m)\n\u001b[1;32m      3\u001b[0m model \u001b[38;5;241m=\u001b[39m build_lanedetector(cfg\u001b[38;5;241m.\u001b[39mmodel)\n\u001b[1;32m      5\u001b[0m model\u001b[38;5;241m.\u001b[39minit_weights()\n",
      "\u001b[0;31mNameError\u001b[0m: name 'Config' is not defined"
     ]
    }
   ],
   "source": [
    "cfg = Config.fromfile(\"/home/ec2-user/vardeep_ws/Anchor3DLane/configs/test_config.py\")\n",
    "\n",
    "model = build_lanedetector(cfg.model)\n",
    "\n",
    "model.init_weights()\n",
    "\n",
    "model = revert_sync_batchnorm(model)\n",
    "\n",
    "dataset = build_dataset(cfg.data.test)\n",
    "\n",
    "loader_cfg = dict(\n",
    "    # cfg.gpus will be ignored if distributed\n",
    "    num_gpus=1,\n",
    "    dist=distributed,\n",
    "    # seed=cfg.seed,\n",
    "    drop_last=True,\n",
    "    shuffle=cfg.data_shuffle,\n",
    "    persistent_workers=False)\n",
    "# The overall dataloader settings\n",
    "loader_cfg.update({\n",
    "    k: v\n",
    "    for k, v in cfg.data.items() if k not in [\n",
    "        'train', 'val', 'test', 'train_dataloader', 'val_dataloader',\n",
    "        'test_dataloader'\n",
    "    ]\n",
    "})\n",
    "checkpoint = torch.load(\"/home/ec2-user/vardeep_ws/Anchor3DLane/work_dir/openlane.pth\")\n",
    "model.load_state_dict(checkpoint['state_dict'])\n"
   ]
  },
  {
   "cell_type": "code",
   "execution_count": null,
   "id": "4b2236c0",
   "metadata": {},
   "outputs": [],
   "source": []
  },
  {
   "cell_type": "code",
   "execution_count": 4,
   "id": "60ea52fa",
   "metadata": {},
   "outputs": [
    {
     "data": {
      "text/plain": [
       "True"
      ]
     },
     "execution_count": 4,
     "metadata": {},
     "output_type": "execute_result"
    }
   ],
   "source": [
    "model = TrtModel(trt_engine_path)"
   ]
  },
  {
   "cell_type": "code",
   "execution_count": null,
   "id": "459111bb",
   "metadata": {},
   "outputs": [],
   "source": []
  },
  {
   "cell_type": "code",
   "execution_count": null,
   "id": "e381e4b1",
   "metadata": {},
   "outputs": [],
   "source": []
  }
 ],
 "metadata": {
  "kernelspec": {
   "display_name": "Python (myenv)",
   "language": "python",
   "name": "myenv"
  },
  "language_info": {
   "codemirror_mode": {
    "name": "ipython",
    "version": 3
   },
   "file_extension": ".py",
   "mimetype": "text/x-python",
   "name": "python",
   "nbconvert_exporter": "python",
   "pygments_lexer": "ipython3",
   "version": "3.9.4"
  }
 },
 "nbformat": 4,
 "nbformat_minor": 5
}
